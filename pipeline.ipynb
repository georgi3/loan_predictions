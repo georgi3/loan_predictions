{
 "cells": [
  {
   "cell_type": "code",
   "execution_count": 71,
   "outputs": [],
   "source": [
    "import warnings\n",
    "warnings.simplefilter(action='ignore')"
   ],
   "metadata": {
    "collapsed": false,
    "pycharm": {
     "name": "#%%\n"
    }
   }
  },
  {
   "cell_type": "code",
   "execution_count": 72,
   "outputs": [],
   "source": [
    "import pandas as pd\n",
    "from sklearn import metrics\n",
    "from sklearn.model_selection import train_test_split, GridSearchCV\n",
    "from sklearn.pipeline import Pipeline\n",
    "from sklearn.preprocessing import OneHotEncoder, FunctionTransformer\n",
    "from sklearn.compose import ColumnTransformer\n",
    "from sklearn.impute import KNNImputer\n",
    "from sklearn.linear_model import LogisticRegression\n",
    "from supporting_funcs import *\n",
    "import pickle\n",
    "import os"
   ],
   "metadata": {
    "collapsed": false,
    "pycharm": {
     "name": "#%%\n"
    }
   }
  },
  {
   "cell_type": "code",
   "execution_count": 73,
   "outputs": [],
   "source": [
    "fname = './data/data.csv'\n",
    "df = pd.read_csv(fname)\n",
    "\n",
    "y = df['Loan_Status']\n",
    "df = df.drop(['Loan_Status', 'Loan_ID'], axis=1)"
   ],
   "metadata": {
    "collapsed": false,
    "pycharm": {
     "name": "#%%\n"
    }
   }
  },
  {
   "cell_type": "code",
   "execution_count": 74,
   "outputs": [],
   "source": [
    "X_train, X_test, y_train, y_test = train_test_split(df, y, random_state=4, stratify=y, train_size=0.7)"
   ],
   "metadata": {
    "collapsed": false,
    "pycharm": {
     "name": "#%%\n"
    }
   }
  },
  {
   "cell_type": "code",
   "execution_count": 75,
   "outputs": [],
   "source": [
    "# Engineering\n",
    "log_feats = ['LoanAmount']\n",
    "comb_col = ['ApplicantIncome', 'CoapplicantIncome']\n",
    "term_col = 'Loan_Amount_Term'\n",
    "# Data separation\n",
    "num_feats_untouch = ['Credit_History']\n",
    "cat_feats = df.columns[df.dtypes == 'object'].tolist()\n",
    "num_feats = list(set(df.columns[df.dtypes != 'object'].tolist()) - {'ApplicantIncome', 'CoapplicantIncome'})\n",
    "num_feats.append('CombinedIncome')"
   ],
   "metadata": {
    "collapsed": false,
    "pycharm": {
     "name": "#%%\n"
    }
   }
  },
  {
   "cell_type": "code",
   "execution_count": 76,
   "outputs": [],
   "source": [
    "knn = KNNImputer(n_neighbors=5)"
   ],
   "metadata": {
    "collapsed": false,
    "pycharm": {
     "name": "#%%\n"
    }
   }
  },
  {
   "cell_type": "code",
   "execution_count": 77,
   "outputs": [],
   "source": [
    "imputing_untouched = Pipeline([\n",
    "    ('untouched', FunctionTransformer(func=data_separator, kw_args={'cols': num_feats_untouch})),\n",
    "    ('knn', knn)\n",
    "])\n",
    "imputing_comb = Pipeline([\n",
    "    ('combine_income', FunctionTransformer(func=comb_income, kw_args={'cols': comb_col})),\n",
    "    # ('simple_imputer', SimpleImputer(strategy='median')),\n",
    "    ('knn', knn)\n",
    "])\n",
    "imputing_log = Pipeline([\n",
    "    ('to_log', FunctionTransformer(func=log_transformer, kw_args={'cols': log_feats})),\n",
    "    ('knn', knn)\n",
    "])\n",
    "imputing_term = Pipeline([\n",
    "    ('term', FunctionTransformer(func=term_transformer, kw_args={'col': term_col})),\n",
    "    ('knn', knn)\n",
    "])\n",
    "imputing_cat = Pipeline([\n",
    "    ('cat_feats', FunctionTransformer(func=data_separator, kw_args={'cols':cat_feats})),\n",
    "    ('ohe', OneHotEncoder(sparse=True, drop='first')),\n",
    "    ('to_dense', ToDenseTransformer()),\n",
    "    ('knn', knn)\n",
    "])"
   ],
   "metadata": {
    "collapsed": false,
    "pycharm": {
     "name": "#%%\n"
    }
   }
  },
  {
   "cell_type": "code",
   "execution_count": 78,
   "outputs": [],
   "source": [
    "preprocessor = ColumnTransformer(transformers=[\n",
    "    ('log_transform', imputing_log, log_feats),\n",
    "    ('term_transform', imputing_term, [term_col]),\n",
    "    ('num_data_untouch', imputing_untouched, num_feats_untouch),\n",
    "    ('combine_income', imputing_comb, comb_col),\n",
    "    ('cat_ohe', imputing_cat, cat_feats),\n",
    "])"
   ],
   "metadata": {
    "collapsed": false,
    "pycharm": {
     "name": "#%%\n"
    }
   }
  },
  {
   "cell_type": "code",
   "execution_count": 79,
   "outputs": [],
   "source": [
    "pipeline = Pipeline(steps=[\n",
    "    ('preprocessor', preprocessor),\n",
    "    ('log_reg', LogisticRegression())\n",
    "])"
   ],
   "metadata": {
    "collapsed": false,
    "pycharm": {
     "name": "#%%\n"
    }
   }
  },
  {
   "cell_type": "code",
   "execution_count": 80,
   "outputs": [
    {
     "data": {
      "text/plain": "Pipeline(steps=[('preprocessor',\n                 ColumnTransformer(transformers=[('log_transform',\n                                                  Pipeline(steps=[('to_log',\n                                                                   FunctionTransformer(func=<function log_transformer at 0x13a99b040>,\n                                                                                       kw_args={'cols': ['LoanAmount']})),\n                                                                  ('knn',\n                                                                   KNNImputer())]),\n                                                  ['LoanAmount']),\n                                                 ('term_transform',\n                                                  Pipeline(steps=[('term',\n                                                                   FunctionTransformer(func=<function term_transformer at 0x1036df8b0>...\n                                                                   FunctionTransformer(func=<function data_separator at 0x1036df790>,\n                                                                                       kw_args={'cols': ['Gender',\n                                                                                                         'Married',\n                                                                                                         'Dependents',\n                                                                                                         'Education',\n                                                                                                         'Self_Employed',\n                                                                                                         'Property_Area']})),\n                                                                  ('ohe',\n                                                                   OneHotEncoder(drop='first')),\n                                                                  ('to_dense',\n                                                                   <supporting_funcs.ToDenseTransformer object at 0x16a1d04c0>),\n                                                                  ('knn',\n                                                                   KNNImputer())]),\n                                                  ['Gender', 'Married',\n                                                   'Dependents', 'Education',\n                                                   'Self_Employed',\n                                                   'Property_Area'])])),\n                ('log_reg', LogisticRegression())])"
     },
     "execution_count": 80,
     "metadata": {},
     "output_type": "execute_result"
    }
   ],
   "source": [
    "pipeline.fit(X_train, y_train)"
   ],
   "metadata": {
    "collapsed": false,
    "pycharm": {
     "name": "#%%\n"
    }
   }
  },
  {
   "cell_type": "code",
   "execution_count": 81,
   "outputs": [
    {
     "data": {
      "text/plain": "0.8378378378378378"
     },
     "execution_count": 81,
     "metadata": {},
     "output_type": "execute_result"
    }
   ],
   "source": [
    "pipeline.score(X_test, y_test)"
   ],
   "metadata": {
    "collapsed": false,
    "pycharm": {
     "name": "#%%\n"
    }
   }
  },
  {
   "cell_type": "code",
   "execution_count": 85,
   "outputs": [],
   "source": [
    "params = [\n",
    "    # {\n",
    "    #     'log_reg__random_state': [4],\n",
    "    #     'log_reg__penalty': ['l1', 'l2', 'elasticnet', 'none'],\n",
    "    #     'log_reg__C': [100, 10, 1.0, 0.1, 0.01],\n",
    "    #     'log_reg__solver': ['newton-cg', 'lbfgs', 'liblinear', 'sag', 'saga'],\n",
    "    #     'log_reg__n_jobs': [-1],\n",
    "    #\n",
    "    # }\n",
    "    {'log_reg__C':[ 0.1],\n",
    "     'log_reg__n_jobs': [-1],\n",
    "     'log_reg__penalty': ['l1'],\n",
    "     'log_reg__random_state': [4],\n",
    "     'log_reg__solver': ['liblinear']\n",
    "     }\n",
    "]"
   ],
   "metadata": {
    "collapsed": false,
    "pycharm": {
     "name": "#%%\n"
    }
   }
  },
  {
   "cell_type": "code",
   "execution_count": 86,
   "outputs": [],
   "source": [
    "grid_search = GridSearchCV(estimator=pipeline, param_grid=params, n_jobs=-1, cv=3, verbose=4)"
   ],
   "metadata": {
    "collapsed": false,
    "pycharm": {
     "name": "#%%\n"
    }
   }
  },
  {
   "cell_type": "code",
   "execution_count": 87,
   "outputs": [
    {
     "name": "stdout",
     "output_type": "stream",
     "text": [
      "Fitting 3 folds for each of 1 candidates, totalling 3 fits\n"
     ]
    },
    {
     "name": "stderr",
     "output_type": "stream",
     "text": [
      "/opt/homebrew/Caskroom/miniforge/base/envs/regular/lib/python3.9/site-packages/sklearn/utils/validation.py:593: FutureWarning: np.matrix usage is deprecated in 1.0 and will raise a TypeError in 1.2. Please convert to a numpy array with np.asarray. For more information see: https://numpy.org/doc/stable/reference/generated/numpy.matrix.html\n",
      "  warnings.warn(\n",
      "/opt/homebrew/Caskroom/miniforge/base/envs/regular/lib/python3.9/site-packages/sklearn/utils/validation.py:593: FutureWarning: np.matrix usage is deprecated in 1.0 and will raise a TypeError in 1.2. Please convert to a numpy array with np.asarray. For more information see: https://numpy.org/doc/stable/reference/generated/numpy.matrix.html\n",
      "  warnings.warn(\n",
      "/opt/homebrew/Caskroom/miniforge/base/envs/regular/lib/python3.9/site-packages/sklearn/linear_model/_logistic.py:1523: UserWarning: 'n_jobs' > 1 does not have any effect when 'solver' is set to 'liblinear'. Got 'n_jobs' = 8.\n",
      "  warnings.warn(\n",
      "/opt/homebrew/Caskroom/miniforge/base/envs/regular/lib/python3.9/site-packages/sklearn/utils/validation.py:593: FutureWarning: np.matrix usage is deprecated in 1.0 and will raise a TypeError in 1.2. Please convert to a numpy array with np.asarray. For more information see: https://numpy.org/doc/stable/reference/generated/numpy.matrix.html\n",
      "  warnings.warn(\n",
      "/opt/homebrew/Caskroom/miniforge/base/envs/regular/lib/python3.9/site-packages/sklearn/utils/validation.py:593: FutureWarning: np.matrix usage is deprecated in 1.0 and will raise a TypeError in 1.2. Please convert to a numpy array with np.asarray. For more information see: https://numpy.org/doc/stable/reference/generated/numpy.matrix.html\n",
      "  warnings.warn(\n",
      "/opt/homebrew/Caskroom/miniforge/base/envs/regular/lib/python3.9/site-packages/sklearn/linear_model/_logistic.py:1523: UserWarning: 'n_jobs' > 1 does not have any effect when 'solver' is set to 'liblinear'. Got 'n_jobs' = 8.\n",
      "  warnings.warn(\n",
      "/opt/homebrew/Caskroom/miniforge/base/envs/regular/lib/python3.9/site-packages/sklearn/utils/validation.py:593: FutureWarning: np.matrix usage is deprecated in 1.0 and will raise a TypeError in 1.2. Please convert to a numpy array with np.asarray. For more information see: https://numpy.org/doc/stable/reference/generated/numpy.matrix.html\n",
      "  warnings.warn(\n",
      "/opt/homebrew/Caskroom/miniforge/base/envs/regular/lib/python3.9/site-packages/sklearn/utils/validation.py:593: FutureWarning: np.matrix usage is deprecated in 1.0 and will raise a TypeError in 1.2. Please convert to a numpy array with np.asarray. For more information see: https://numpy.org/doc/stable/reference/generated/numpy.matrix.html\n",
      "  warnings.warn(\n",
      "/opt/homebrew/Caskroom/miniforge/base/envs/regular/lib/python3.9/site-packages/sklearn/utils/validation.py:593: FutureWarning: np.matrix usage is deprecated in 1.0 and will raise a TypeError in 1.2. Please convert to a numpy array with np.asarray. For more information see: https://numpy.org/doc/stable/reference/generated/numpy.matrix.html\n",
      "  warnings.warn(\n",
      "/opt/homebrew/Caskroom/miniforge/base/envs/regular/lib/python3.9/site-packages/sklearn/utils/validation.py:593: FutureWarning: np.matrix usage is deprecated in 1.0 and will raise a TypeError in 1.2. Please convert to a numpy array with np.asarray. For more information see: https://numpy.org/doc/stable/reference/generated/numpy.matrix.html\n",
      "  warnings.warn(\n",
      "/opt/homebrew/Caskroom/miniforge/base/envs/regular/lib/python3.9/site-packages/sklearn/linear_model/_logistic.py:1523: UserWarning: 'n_jobs' > 1 does not have any effect when 'solver' is set to 'liblinear'. Got 'n_jobs' = 8.\n",
      "  warnings.warn(\n",
      "/opt/homebrew/Caskroom/miniforge/base/envs/regular/lib/python3.9/site-packages/sklearn/utils/validation.py:593: FutureWarning: np.matrix usage is deprecated in 1.0 and will raise a TypeError in 1.2. Please convert to a numpy array with np.asarray. For more information see: https://numpy.org/doc/stable/reference/generated/numpy.matrix.html\n",
      "  warnings.warn(\n"
     ]
    },
    {
     "data": {
      "text/plain": "GridSearchCV(cv=3,\n             estimator=Pipeline(steps=[('preprocessor',\n                                        ColumnTransformer(transformers=[('log_transform',\n                                                                         Pipeline(steps=[('to_log',\n                                                                                          FunctionTransformer(func=<function log_transformer at 0x13a99b040>,\n                                                                                                              kw_args={'cols': ['LoanAmount']})),\n                                                                                         ('knn',\n                                                                                          KNNImputer())]),\n                                                                         ['LoanAmount']),\n                                                                        ('term_transform',\n                                                                         Pipeline(steps=[('term',\n                                                                                          FunctionTransformer(func=<function te...\n                                                                                          <supporting_funcs.ToDenseTransformer object at 0x16a1d04c0>),\n                                                                                         ('knn',\n                                                                                          KNNImputer())]),\n                                                                         ['Gender',\n                                                                          'Married',\n                                                                          'Dependents',\n                                                                          'Education',\n                                                                          'Self_Employed',\n                                                                          'Property_Area'])])),\n                                       ('log_reg', LogisticRegression())]),\n             n_jobs=-1,\n             param_grid=[{'log_reg__C': [0.1], 'log_reg__n_jobs': [-1],\n                          'log_reg__penalty': ['l1'],\n                          'log_reg__random_state': [4],\n                          'log_reg__solver': ['liblinear']}],\n             verbose=4)"
     },
     "execution_count": 87,
     "metadata": {},
     "output_type": "execute_result"
    }
   ],
   "source": [
    "grid_search.fit(X_train, y_train)"
   ],
   "metadata": {
    "collapsed": false,
    "pycharm": {
     "name": "#%%\n"
    }
   }
  },
  {
   "cell_type": "code",
   "execution_count": 88,
   "outputs": [
    {
     "data": {
      "text/plain": "{'log_reg__C': 0.1,\n 'log_reg__n_jobs': -1,\n 'log_reg__penalty': 'l1',\n 'log_reg__random_state': 4,\n 'log_reg__solver': 'liblinear'}"
     },
     "execution_count": 88,
     "metadata": {},
     "output_type": "execute_result"
    }
   ],
   "source": [
    "grid_search.best_params_"
   ],
   "metadata": {
    "collapsed": false,
    "pycharm": {
     "name": "#%%\n"
    }
   }
  },
  {
   "cell_type": "code",
   "execution_count": 89,
   "outputs": [
    {
     "data": {
      "text/plain": "0.8432432432432433"
     },
     "execution_count": 89,
     "metadata": {},
     "output_type": "execute_result"
    }
   ],
   "source": [
    "grid_search.score(X_test, y_test)"
   ],
   "metadata": {
    "collapsed": false,
    "pycharm": {
     "name": "#%%\n"
    }
   }
  },
  {
   "cell_type": "code",
   "execution_count": 90,
   "outputs": [
    {
     "data": {
      "text/plain": "array([[ 29,  29],\n       [  0, 127]])"
     },
     "execution_count": 90,
     "metadata": {},
     "output_type": "execute_result"
    }
   ],
   "source": [
    "metrics.confusion_matrix(y_test, grid_search.predict(X_test))"
   ],
   "metadata": {
    "collapsed": false,
    "pycharm": {
     "name": "#%%\n"
    }
   }
  },
  {
   "cell_type": "markdown",
   "source": [
    "### Saving the Model"
   ],
   "metadata": {
    "collapsed": false,
    "pycharm": {
     "name": "#%% md\n"
    }
   }
  },
  {
   "cell_type": "code",
   "execution_count": 91,
   "outputs": [
    {
     "name": "stdout",
     "output_type": "stream",
     "text": [
      "../data/ already exists...\n"
     ]
    }
   ],
   "source": [
    "dirn = '../data/'\n",
    "model_fname = f'{dirn}lg.pkl'\n",
    "try:\n",
    "    os.mkdir(dirn)\n",
    "except FileExistsError as err:\n",
    "    print(f'{dirn} already exists...')"
   ],
   "metadata": {
    "collapsed": false,
    "pycharm": {
     "name": "#%%\n"
    }
   }
  },
  {
   "cell_type": "code",
   "execution_count": 92,
   "outputs": [],
   "source": [
    "with open(model_fname, 'wb') as f:\n",
    "    pickle.dump(grid_search, f)"
   ],
   "metadata": {
    "collapsed": false,
    "pycharm": {
     "name": "#%%\n"
    }
   }
  },
  {
   "cell_type": "markdown",
   "source": [
    "#### Alternative to doing pipeline"
   ],
   "metadata": {
    "collapsed": false,
    "pycharm": {
     "name": "#%% md\n"
    }
   }
  },
  {
   "cell_type": "code",
   "execution_count": 93,
   "outputs": [],
   "source": [
    "df = pd.read_csv(fname)\n",
    "y = df['Loan_Status']\n",
    "df = df.drop(['Loan_Status', 'Loan_ID'], axis=1)\n",
    "X_train, X_test, y_train, y_test = train_test_split(df, y, random_state=4, stratify=y, train_size=0.7)"
   ],
   "metadata": {
    "collapsed": false,
    "pycharm": {
     "name": "#%%\n"
    }
   }
  },
  {
   "cell_type": "code",
   "execution_count": 94,
   "outputs": [],
   "source": [
    "def pipe(df_):\n",
    "    df_ = pd.get_dummies(df_, drop_first=True)\n",
    "    imputed = KNNImputer(n_neighbors=3)\n",
    "    dft_impu = imputed.fit_transform(df_)\n",
    "    df_ = pd.DataFrame(dft_impu, columns=df_.columns.tolist())\n",
    "    df_['LoanAmount'] = np.log(df_['LoanAmount'])\n",
    "    df_['Combined_Income'] = df_['ApplicantIncome'] + df_['CoapplicantIncome']\n",
    "    df_ = df_.drop(['ApplicantIncome', 'CoapplicantIncome'], axis=1)\n",
    "    df_['Combined_Income'] = np.log(df_['Combined_Income'])\n",
    "    df_['Loan_Amount_Term'] = df_['Loan_Amount_Term'] / 12\n",
    "    return df_"
   ],
   "metadata": {
    "collapsed": false,
    "pycharm": {
     "name": "#%%\n"
    }
   }
  },
  {
   "cell_type": "code",
   "execution_count": 95,
   "outputs": [],
   "source": [
    "X_train = pipe(X_train)\n",
    "X_test = pipe(X_test)"
   ],
   "metadata": {
    "collapsed": false,
    "pycharm": {
     "name": "#%%\n"
    }
   }
  },
  {
   "cell_type": "code",
   "execution_count": 96,
   "outputs": [],
   "source": [
    "lg = LogisticRegression(penalty=\"l1\", C=0.1, fit_intercept=True, random_state=4, solver=\"liblinear\", warm_start=False)"
   ],
   "metadata": {
    "collapsed": false,
    "pycharm": {
     "name": "#%%\n"
    }
   }
  },
  {
   "cell_type": "code",
   "execution_count": 97,
   "outputs": [
    {
     "data": {
      "text/plain": "LogisticRegression(C=0.1, penalty='l1', random_state=4, solver='liblinear')"
     },
     "execution_count": 97,
     "metadata": {},
     "output_type": "execute_result"
    }
   ],
   "source": [
    "lg.fit(X_train, y_train)"
   ],
   "metadata": {
    "collapsed": false,
    "pycharm": {
     "name": "#%%\n"
    }
   }
  },
  {
   "cell_type": "code",
   "execution_count": 53,
   "outputs": [
    {
     "data": {
      "text/plain": "0.8486486486486486"
     },
     "execution_count": 53,
     "metadata": {},
     "output_type": "execute_result"
    }
   ],
   "source": [
    "lg.score(X_test, y_test)"
   ],
   "metadata": {
    "collapsed": false,
    "pycharm": {
     "name": "#%%\n"
    }
   }
  },
  {
   "cell_type": "code",
   "execution_count": 54,
   "outputs": [
    {
     "data": {
      "text/plain": "array([[ 30,  28],\n       [  0, 127]])"
     },
     "execution_count": 54,
     "metadata": {},
     "output_type": "execute_result"
    }
   ],
   "source": [
    "metrics.confusion_matrix(y_test, lg.predict(X_test))"
   ],
   "metadata": {
    "collapsed": false,
    "pycharm": {
     "name": "#%%\n"
    }
   }
  }
 ],
 "metadata": {
  "kernelspec": {
   "display_name": "Python 3",
   "language": "python",
   "name": "python3"
  },
  "language_info": {
   "codemirror_mode": {
    "name": "ipython",
    "version": 2
   },
   "file_extension": ".py",
   "mimetype": "text/x-python",
   "name": "python",
   "nbconvert_exporter": "python",
   "pygments_lexer": "ipython2",
   "version": "2.7.6"
  }
 },
 "nbformat": 4,
 "nbformat_minor": 0
}