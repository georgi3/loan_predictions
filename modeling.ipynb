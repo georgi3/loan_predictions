{
 "cells": [
  {
   "cell_type": "code",
   "execution_count": 991,
   "outputs": [],
   "source": [
    "import warnings\n",
    "warnings.simplefilter(action='ignore')"
   ],
   "metadata": {
    "collapsed": false,
    "pycharm": {
     "name": "#%%\n"
    }
   }
  },
  {
   "cell_type": "code",
   "execution_count": 992,
   "outputs": [],
   "source": [
    "from sklearn import metrics\n",
    "from sklearn.model_selection import train_test_split, GridSearchCV, StratifiedKFold\n",
    "from sklearn.preprocessing import OneHotEncoder, FunctionTransformer, LabelEncoder\n",
    "from sklearn.impute import KNNImputer, SimpleImputer\n",
    "from sklearn.cluster import KMeans\n",
    "from scipy.stats.mstats import winsorize  # nan_policy does not work\n",
    "from sklearn.feature_selection import SelectKBest\n",
    "from sklearn.pipeline import Pipeline\n",
    "\n",
    "# Models\n",
    "from sklearn.ensemble import RandomForestClassifier\n",
    "from sklearn.svm import SVC\n",
    "from xgboost import XGBClassifier\n",
    "from sklearn.linear_model import SGDClassifier\n",
    "from sklearn.naive_bayes import GaussianNB, BernoulliNB, CategoricalNB, ComplementNB\n",
    "\n",
    "from supporting_funcs import *\n",
    "import pickle\n",
    "import os"
   ],
   "metadata": {
    "collapsed": false,
    "pycharm": {
     "name": "#%%\n"
    }
   }
  },
  {
   "cell_type": "code",
   "execution_count": 1064,
   "outputs": [],
   "source": [
    "fname = './data/data.csv'\n",
    "df = pd.read_csv(fname)\n",
    "df.drop(['Loan_ID'], axis=1, inplace=True)"
   ],
   "metadata": {
    "collapsed": false,
    "pycharm": {
     "name": "#%%\n"
    }
   }
  },
  {
   "cell_type": "code",
   "execution_count": 1065,
   "outputs": [],
   "source": [
    "# SETTING CLASS WEIGHTS\n",
    "# wj=n_samples / (n_classes * n_samplesj)\n",
    "# wj is the weight for each class(j signifies the class)\n",
    "n_samples = df.shape[0]                             # n_samples is the total number of samples or rows in the dataset\n",
    "n_classes = 2                                       # n_classes is the total number of unique classes in the target\n",
    "n_sample1 = df[df['Loan_Status'] == 'Y'].shape[0]     # n_samplesj is the total number of rows of the respective class\n",
    "n_sample2 = df[df['Loan_Status'] == 'N'].shape[0]"
   ],
   "metadata": {
    "collapsed": false,
    "pycharm": {
     "name": "#%%\n"
    }
   }
  },
  {
   "cell_type": "code",
   "execution_count": 1066,
   "outputs": [],
   "source": [
    "weight1 = n_samples / (n_classes * n_sample1)\n",
    "weight2 = n_samples / (n_classes * n_sample2)"
   ],
   "metadata": {
    "collapsed": false,
    "pycharm": {
     "name": "#%%\n"
    }
   }
  },
  {
   "cell_type": "markdown",
   "source": [
    "### Modeling"
   ],
   "metadata": {
    "collapsed": false,
    "pycharm": {
     "name": "#%% md\n"
    }
   }
  },
  {
   "cell_type": "markdown",
   "source": [
    "### First Approach"
   ],
   "metadata": {
    "collapsed": false,
    "pycharm": {
     "name": "#%% md\n"
    }
   }
  },
  {
   "cell_type": "code",
   "execution_count": 1067,
   "outputs": [],
   "source": [
    "cat_feats = df.columns[df.dtypes == 'object'].tolist()\n",
    "num_feats = df.columns[df.dtypes != 'object'].tolist()"
   ],
   "metadata": {
    "collapsed": false,
    "pycharm": {
     "name": "#%%\n"
    }
   }
  },
  {
   "cell_type": "code",
   "execution_count": 1068,
   "outputs": [],
   "source": [
    "df['CoapplicantIncome'] = np.where(df['CoapplicantIncome'] == 0, np.nan, df['CoapplicantIncome'])"
   ],
   "metadata": {
    "collapsed": false,
    "pycharm": {
     "name": "#%%\n"
    }
   }
  },
  {
   "cell_type": "code",
   "execution_count": 1069,
   "outputs": [],
   "source": [
    "na_indices = {cat: df[df[cat].isna()].index.tolist() for cat in cat_feats}"
   ],
   "metadata": {
    "collapsed": false,
    "pycharm": {
     "name": "#%%\n"
    }
   }
  },
  {
   "cell_type": "code",
   "execution_count": 1070,
   "outputs": [],
   "source": [
    "dummies = pd.get_dummies(df[cat_feats])"
   ],
   "metadata": {
    "collapsed": false,
    "pycharm": {
     "name": "#%%\n"
    }
   }
  },
  {
   "cell_type": "code",
   "execution_count": 1071,
   "outputs": [],
   "source": [
    "dm_cols = dummies.columns[dummies.dtypes != 'object'].tolist()\n",
    "dm_map = {}\n",
    "for feat in cat_feats:\n",
    "    dm_map[feat] = []\n",
    "    for col in dm_cols:\n",
    "        if col.startswith(feat):\n",
    "            dm_map[feat].append(col)"
   ],
   "metadata": {
    "collapsed": false,
    "pycharm": {
     "name": "#%%\n"
    }
   }
  },
  {
   "cell_type": "code",
   "execution_count": 1072,
   "outputs": [],
   "source": [
    "for feat, col_names in dm_map.items():\n",
    "    for col_name in col_names:\n",
    "        dummies[col_name].iloc[na_indices[feat]] = np.nan"
   ],
   "metadata": {
    "collapsed": false,
    "pycharm": {
     "name": "#%%\n"
    }
   }
  },
  {
   "cell_type": "code",
   "execution_count": 1073,
   "outputs": [],
   "source": [
    "df = pd.concat([df[num_feats], dummies], axis=1)"
   ],
   "metadata": {
    "collapsed": false,
    "pycharm": {
     "name": "#%%\n"
    }
   }
  },
  {
   "cell_type": "code",
   "execution_count": 1074,
   "outputs": [],
   "source": [
    "# sns.swarmplot(data=df, x='CoapplicantIncome')\n",
    "# plt.show()\n",
    "# sns.swarmplot(data=df, x='ApplicantIncome')\n",
    "# plt.show()\n",
    "df['ApplicantIncome'] = winsorize_pandas(df['ApplicantIncome'], limits=(0, 0.1))\n",
    "df['CoapplicantIncome'] = winsorize_pandas(df['CoapplicantIncome'], limits=(0, 0.1))\n",
    "# sns.swarmplot(data=df, x='CoapplicantIncome')\n",
    "# plt.show()\n",
    "# sns.swarmplot(data=df, x='ApplicantIncome')\n",
    "#############################################\n",
    "# sns.swarmplot(data=df, x='LoanAmount')\n",
    "# plt.show()\n",
    "df['LoanAmount'] = winsorize_pandas(df['LoanAmount'], limits=(0, 0.05))\n",
    "# sns.swarmplot(data=df, x='LoanAmount')v"
   ],
   "metadata": {
    "collapsed": false,
    "pycharm": {
     "name": "#%%\n"
    }
   }
  },
  {
   "cell_type": "code",
   "execution_count": 1075,
   "outputs": [],
   "source": [
    "knn = KNNImputer(n_neighbors=3)"
   ],
   "metadata": {
    "collapsed": false,
    "pycharm": {
     "name": "#%%\n"
    }
   }
  },
  {
   "cell_type": "code",
   "execution_count": 1076,
   "outputs": [],
   "source": [
    "df = pd.DataFrame(knn.fit_transform(df), columns=df.columns)"
   ],
   "metadata": {
    "collapsed": false,
    "pycharm": {
     "name": "#%%\n"
    }
   }
  },
  {
   "cell_type": "code",
   "execution_count": 1077,
   "outputs": [],
   "source": [
    "df['CombinedIncome'] = np.log(df['ApplicantIncome'] + df['CoapplicantIncome'])\n",
    "df['LoanAmount'] = np.log(df['LoanAmount'])\n",
    "df['Loan_Amount_Term'] = df['Loan_Amount_Term'] / 12"
   ],
   "metadata": {
    "collapsed": false,
    "pycharm": {
     "name": "#%%\n"
    }
   }
  },
  {
   "cell_type": "code",
   "execution_count": 1078,
   "outputs": [],
   "source": [
    "df.drop(['ApplicantIncome', 'CoapplicantIncome'], axis=1, inplace=True)"
   ],
   "metadata": {
    "collapsed": false,
    "pycharm": {
     "name": "#%%\n"
    }
   }
  },
  {
   "cell_type": "code",
   "execution_count": 1079,
   "outputs": [],
   "source": [
    "y = df['Loan_Status_Y']\n",
    "df = df.drop(['Loan_Status_Y', 'Loan_Status_N'], axis=1)"
   ],
   "metadata": {
    "collapsed": false,
    "pycharm": {
     "name": "#%%\n"
    }
   }
  },
  {
   "cell_type": "code",
   "execution_count": 1081,
   "outputs": [],
   "source": [
    "X_train, X_test, y_train, y_test = train_test_split(df, y, random_state=4, stratify=y, train_size=0.7)"
   ],
   "metadata": {
    "collapsed": false,
    "pycharm": {
     "name": "#%%\n"
    }
   }
  },
  {
   "cell_type": "code",
   "execution_count": 1113,
   "outputs": [],
   "source": [
    "params = [\n",
    "    {\n",
    "        'C': [0.09],\n",
    "        'class_weight': [{0:x, 1:1-x} for x in np.linspace(0.2, 0.8, 150)],\n",
    "        'intercept_scaling': [0.1],\n",
    "        'max_iter': [10000],\n",
    "        'penalty': ['l1'],\n",
    "        'solver': ['newton-cg', 'liblinear', 'saga'],\n",
    "\n",
    "    }\n",
    "]\n",
    "grid_search = GridSearchCV(estimator=LogisticRegression(), param_grid=params, cv=StratifiedKFold(), scoring='f1', verbose=0, n_jobs=-1)"
   ],
   "metadata": {
    "collapsed": false,
    "pycharm": {
     "name": "#%%\n"
    }
   }
  },
  {
   "cell_type": "code",
   "execution_count": 1114,
   "outputs": [
    {
     "data": {
      "text/plain": "dict_keys(['C', 'class_weight', 'dual', 'fit_intercept', 'intercept_scaling', 'l1_ratio', 'max_iter', 'multi_class', 'n_jobs', 'penalty', 'random_state', 'solver', 'tol', 'verbose', 'warm_start'])"
     },
     "execution_count": 1114,
     "metadata": {},
     "output_type": "execute_result"
    }
   ],
   "source": [
    "grid_search.estimator.get_params().keys()"
   ],
   "metadata": {
    "collapsed": false,
    "pycharm": {
     "name": "#%%\n"
    }
   }
  },
  {
   "cell_type": "code",
   "execution_count": 1115,
   "outputs": [
    {
     "name": "stderr",
     "output_type": "stream",
     "text": [
      "/opt/homebrew/Caskroom/miniforge/base/envs/regular/lib/python3.9/site-packages/sklearn/linear_model/_sag.py:352: ConvergenceWarning: The max_iter was reached which means the coef_ did not converge\n",
      "  warnings.warn(\n",
      "/opt/homebrew/Caskroom/miniforge/base/envs/regular/lib/python3.9/site-packages/sklearn/linear_model/_sag.py:352: ConvergenceWarning: The max_iter was reached which means the coef_ did not converge\n",
      "  warnings.warn(\n",
      "/opt/homebrew/Caskroom/miniforge/base/envs/regular/lib/python3.9/site-packages/sklearn/linear_model/_sag.py:352: ConvergenceWarning: The max_iter was reached which means the coef_ did not converge\n",
      "  warnings.warn(\n"
     ]
    },
    {
     "data": {
      "text/plain": "GridSearchCV(cv=StratifiedKFold(n_splits=5, random_state=None, shuffle=False),\n             estimator=LogisticRegression(), n_jobs=-1,\n             param_grid=[{'C': [0.09],\n                          'class_weight': [{0: 0.2, 1: 0.8},\n                                           {0: 0.20402684563758391,\n                                            1: 0.7959731543624161},\n                                           {0: 0.2080536912751678,\n                                            1: 0.7919463087248322},\n                                           {0: 0.2120805369127517,\n                                            1: 0.7879194630872484},\n                                           {0: 0.21610738255033557,\n                                            1: 0.7838926174496644},\n                                           {...\n                                           {0: 0.30067114093959735,\n                                            1: 0.6993288590604027},\n                                           {0: 0.3046979865771812,\n                                            1: 0.6953020134228187},\n                                           {0: 0.3087248322147651,\n                                            1: 0.6912751677852349},\n                                           {0: 0.31275167785234903,\n                                            1: 0.687248322147651},\n                                           {0: 0.3167785234899329,\n                                            1: 0.683221476510067}, ...],\n                          'intercept_scaling': [0.1, 0.1, 0.2],\n                          'max_iter': [10000], 'penalty': ['l1'],\n                          'solver': ['newton-cg', 'liblinear', 'saga']}],\n             scoring='f1')"
     },
     "execution_count": 1115,
     "metadata": {},
     "output_type": "execute_result"
    }
   ],
   "source": [
    "grid_search.fit(X_train, y_train)"
   ],
   "metadata": {
    "collapsed": false,
    "pycharm": {
     "name": "#%%\n"
    }
   }
  },
  {
   "cell_type": "code",
   "execution_count": 1117,
   "outputs": [
    {
     "data": {
      "text/plain": "{'C': 0.09,\n 'class_weight': {0: 0.6630872483221477, 1: 0.3369127516778523},\n 'intercept_scaling': 0.1,\n 'max_iter': 10000,\n 'penalty': 'l1',\n 'solver': 'liblinear'}"
     },
     "execution_count": 1117,
     "metadata": {},
     "output_type": "execute_result"
    }
   ],
   "source": [
    "grid_search.best_params_"
   ],
   "metadata": {
    "collapsed": false,
    "pycharm": {
     "name": "#%%\n"
    }
   }
  },
  {
   "cell_type": "code",
   "execution_count": 1118,
   "outputs": [
    {
     "name": "stdout",
     "output_type": "stream",
     "text": [
      "Train Data f1 0.8683812405446293\n",
      "Test Data f1 0.8928571428571429\n"
     ]
    }
   ],
   "source": [
    "print('Train Data f1', metrics.f1_score(y_train, grid_search.predict(X_train)))\n",
    "print('Test Data f1', metrics.f1_score(y_test, grid_search.predict(X_test)))"
   ],
   "metadata": {
    "collapsed": false,
    "pycharm": {
     "name": "#%%\n"
    }
   }
  },
  {
   "cell_type": "code",
   "execution_count": 1096,
   "outputs": [
    {
     "name": "stdout",
     "output_type": "stream",
     "text": [
      "              precision    recall  f1-score   support\n",
      "\n",
      "         0.0       0.94      0.52      0.67        58\n",
      "         1.0       0.82      0.98      0.89       127\n",
      "\n",
      "    accuracy                           0.84       185\n",
      "   macro avg       0.88      0.75      0.78       185\n",
      "weighted avg       0.85      0.84      0.82       185\n",
      "\n"
     ]
    }
   ],
   "source": [
    "print(metrics.classification_report(y_test, grid_search.predict(X_test)))"
   ],
   "metadata": {
    "collapsed": false,
    "pycharm": {
     "name": "#%%\n"
    }
   }
  },
  {
   "cell_type": "code",
   "execution_count": 1097,
   "outputs": [],
   "source": [
    "# grid_search.predict_proba(X_test)"
   ],
   "metadata": {
    "collapsed": false,
    "pycharm": {
     "name": "#%%\n"
    }
   }
  },
  {
   "cell_type": "code",
   "execution_count": 1098,
   "outputs": [
    {
     "data": {
      "text/plain": "<Figure size 432x432 with 1 Axes>",
      "image/png": "[encoded data removed]"
     },
     "metadata": {},
     "output_type": "display_data"
    }
   ],
   "source": [
    "conf_matrix(metrics.confusion_matrix(y_test, grid_search.predict(X_test)))"
   ],
   "metadata": {
    "collapsed": false,
    "pycharm": {
     "name": "#%%\n"
    }
   }
  },
  {
   "cell_type": "markdown",
   "source": [
    "# Second Approach"
   ],
   "metadata": {
    "collapsed": false,
    "pycharm": {
     "name": "#%% md\n"
    }
   }
  },
  {
   "cell_type": "code",
   "execution_count": 1046,
   "outputs": [],
   "source": [
    "df = pd.read_csv(fname)\n",
    "df = df.drop(['Loan_ID'], axis=1)"
   ],
   "metadata": {
    "collapsed": false,
    "pycharm": {
     "name": "#%%\n"
    }
   }
  },
  {
   "cell_type": "code",
   "execution_count": 1050,
   "outputs": [],
   "source": [
    "y = df['Loan_Status']\n",
    "df = df.drop(['Loan_Status',], axis=1)\n",
    "X_train, X_test, y_train, y_test = train_test_split(df, y, random_state=4, stratify=y, train_size=0.7)"
   ],
   "metadata": {
    "collapsed": false,
    "pycharm": {
     "name": "#%%\n"
    }
   }
  },
  {
   "cell_type": "code",
   "execution_count": 1051,
   "outputs": [],
   "source": [
    "lbl_enc = LabelEncoder()\n",
    "y_test = lbl_enc.fit_transform(y_test)\n",
    "y_train = lbl_enc.fit_transform(y_train)"
   ],
   "metadata": {
    "collapsed": false,
    "pycharm": {
     "name": "#%%\n"
    }
   }
  },
  {
   "cell_type": "code",
   "execution_count": 1052,
   "outputs": [],
   "source": [
    "def pipe(df_):\n",
    "    df_ = pd.get_dummies(df_, drop_first=True)\n",
    "    imputed = KNNImputer(n_neighbors=3)\n",
    "    dft_impu = imputed.fit_transform(df_)\n",
    "    df_ = pd.DataFrame(dft_impu, columns=df_.columns.tolist())\n",
    "    df_['LoanAmount'] = np.log(df_['LoanAmount'])\n",
    "    df_['Combined_Income'] = df_['ApplicantIncome'] + df_['CoapplicantIncome']\n",
    "    df_ = df_.drop(['ApplicantIncome', 'CoapplicantIncome'], axis=1)\n",
    "    df_['Combined_Income'] = np.log(df_['Combined_Income'])\n",
    "    df_['Loan_Amount_Term'] = df_['Loan_Amount_Term'] / 12\n",
    "    return df_"
   ],
   "metadata": {
    "collapsed": false,
    "pycharm": {
     "name": "#%%\n"
    }
   }
  },
  {
   "cell_type": "code",
   "execution_count": 1053,
   "outputs": [],
   "source": [
    "X_train = pipe(X_train)\n",
    "X_test = pipe(X_test)"
   ],
   "metadata": {
    "collapsed": false,
    "pycharm": {
     "name": "#%%\n"
    }
   }
  },
  {
   "cell_type": "code",
   "execution_count": 1054,
   "outputs": [],
   "source": [
    "params = [\n",
    "    {\n",
    "        'C': [0.07, 0.08, 0.09, 0.1],\n",
    "        'class_weight': [{0:x, 1:1-x} for x in np.linspace(0.2, 0.8, 100)],\n",
    "        'intercept_scaling': [0.1],\n",
    "        'max_iter': [100],\n",
    "        'penalty': ['l1'],\n",
    "        'solver': ['newton-cg', 'liblinear'],\n",
    "        # 'lib1_ratio': [0.1, 0.4, 0.9]\n",
    "    }\n",
    "]\n",
    "grid_search = GridSearchCV(estimator=LogisticRegression(), param_grid=params, cv=StratifiedKFold(), scoring='f1', verbose=0, n_jobs=-1)"
   ],
   "metadata": {
    "collapsed": false,
    "pycharm": {
     "name": "#%%\n"
    }
   }
  },
  {
   "cell_type": "code",
   "execution_count": 1055,
   "outputs": [
    {
     "data": {
      "text/plain": "dict_keys(['C', 'class_weight', 'dual', 'fit_intercept', 'intercept_scaling', 'l1_ratio', 'max_iter', 'multi_class', 'n_jobs', 'penalty', 'random_state', 'solver', 'tol', 'verbose', 'warm_start'])"
     },
     "execution_count": 1055,
     "metadata": {},
     "output_type": "execute_result"
    }
   ],
   "source": [
    "grid_search.estimator.get_params().keys()"
   ],
   "metadata": {
    "collapsed": false,
    "pycharm": {
     "name": "#%%\n"
    }
   }
  },
  {
   "cell_type": "code",
   "execution_count": 1056,
   "outputs": [
    {
     "data": {
      "text/plain": "GridSearchCV(cv=StratifiedKFold(n_splits=5, random_state=None, shuffle=False),\n             estimator=LogisticRegression(), n_jobs=-1,\n             param_grid=[{'C': [0.07, 0.08, 0.09, 0.1],\n                          'class_weight': [{0: 0.2, 1: 0.8},\n                                           {0: 0.20606060606060608,\n                                            1: 0.793939393939394},\n                                           {0: 0.21212121212121213,\n                                            1: 0.7878787878787878},\n                                           {0: 0.2181818181818182,\n                                            1: 0.7818181818181817},\n                                           {0: 0.22424242424242424,\n                                            1: 0.77575...\n                                            1: 0.6545454545454545},\n                                           {0: 0.35151515151515156,\n                                            1: 0.6484848484848484},\n                                           {0: 0.3575757575757576,\n                                            1: 0.6424242424242423},\n                                           {0: 0.36363636363636365,\n                                            1: 0.6363636363636364},\n                                           {0: 0.36969696969696975,\n                                            1: 0.6303030303030303},\n                                           {0: 0.3757575757575758,\n                                            1: 0.6242424242424243}, ...],\n                          'intercept_scaling': [0.1], 'max_iter': [100],\n                          'penalty': ['l1'],\n                          'solver': ['newton-cg', 'liblinear']}],\n             scoring='f1')"
     },
     "execution_count": 1056,
     "metadata": {},
     "output_type": "execute_result"
    }
   ],
   "source": [
    "grid_search.fit(X_train, y_train)"
   ],
   "metadata": {
    "collapsed": false,
    "pycharm": {
     "name": "#%%\n"
    }
   }
  },
  {
   "cell_type": "code",
   "execution_count": 1057,
   "outputs": [
    {
     "data": {
      "text/plain": "{'C': 0.09,\n 'class_weight': {0: 0.6666666666666667, 1: 0.33333333333333326},\n 'intercept_scaling': 0.1,\n 'max_iter': 100,\n 'penalty': 'l1',\n 'solver': 'liblinear'}"
     },
     "execution_count": 1057,
     "metadata": {},
     "output_type": "execute_result"
    }
   ],
   "source": [
    "grid_search.best_params_"
   ],
   "metadata": {
    "collapsed": false,
    "pycharm": {
     "name": "#%%\n"
    }
   }
  },
  {
   "cell_type": "code",
   "execution_count": 1058,
   "outputs": [
    {
     "name": "stdout",
     "output_type": "stream",
     "text": [
      "F1 Score is : 0.900709219858156\n"
     ]
    }
   ],
   "source": [
    "print('F1 Score is :', grid_search.score(X_test, y_test))"
   ],
   "metadata": {
    "collapsed": false,
    "pycharm": {
     "name": "#%%\n"
    }
   }
  },
  {
   "cell_type": "code",
   "execution_count": 1059,
   "outputs": [],
   "source": [
    "probas = pd.Series(grid_search.predict_proba(X_test)[:, 1])\n",
    "pred = grid_search.predict(X_test)\n",
    "adj_prob = np.where(probas <= 0.56, 0, 1)"
   ],
   "metadata": {
    "collapsed": false,
    "pycharm": {
     "name": "#%%\n"
    }
   }
  },
  {
   "cell_type": "code",
   "execution_count": 1062,
   "outputs": [
    {
     "data": {
      "text/plain": "<Figure size 432x432 with 1 Axes>",
      "image/png": "[encoded data removed]"
     },
     "metadata": {},
     "output_type": "display_data"
    },
    {
     "data": {
      "text/plain": "<Figure size 432x432 with 1 Axes>",
      "image/png": "[encoded data removed]"
     },
     "metadata": {},
     "output_type": "display_data"
    }
   ],
   "source": [
    "conf_matrix(metrics.confusion_matrix(y_test, pred))\n",
    "conf_matrix(metrics.confusion_matrix(y_test, adj_prob), title='Confusion Mat. Adjusted Probas')"
   ],
   "metadata": {
    "collapsed": false,
    "pycharm": {
     "name": "#%%\n"
    }
   }
  },
  {
   "cell_type": "code",
   "execution_count": 1063,
   "outputs": [
    {
     "data": {
      "text/plain": "<AxesSubplot:>"
     },
     "execution_count": 1063,
     "metadata": {},
     "output_type": "execute_result"
    },
    {
     "data": {
      "text/plain": "<Figure size 432x288 with 1 Axes>",
      "image/png": "[encoded data removed]"
     },
     "metadata": {},
     "output_type": "display_data"
    }
   ],
   "source": [
    "sns.swarmplot(probas)"
   ],
   "metadata": {
    "collapsed": false,
    "pycharm": {
     "name": "#%%\n"
    }
   }
  }
 ],
 "metadata": {
  "kernelspec": {
   "display_name": "Python 3",
   "language": "python",
   "name": "python3"
  },
  "language_info": {
   "codemirror_mode": {
    "name": "ipython",
    "version": 2
   },
   "file_extension": ".py",
   "mimetype": "text/x-python",
   "name": "python",
   "nbconvert_exporter": "python",
   "pygments_lexer": "ipython2",
   "version": "2.7.6"
  }
 },
 "nbformat": 4,
 "nbformat_minor": 0
}